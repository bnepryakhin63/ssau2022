{
 "cells": [
  {
   "cell_type": "code",
   "execution_count": 1,
   "id": "6f01b99e-6c7a-4fc6-80ff-fee30d4e6e95",
   "metadata": {},
   "outputs": [],
   "source": [
    "from pyspark import SparkContext, SparkConf \n",
    "from pyspark.sql import SparkSession"
   ]
  },
  {
   "cell_type": "code",
   "execution_count": 2,
   "id": "65f9b47d-157d-4bf2-9720-63992eca2b75",
   "metadata": {},
   "outputs": [],
   "source": [
    "conf = SparkConf().setAppName(\"Lab1_Nepryakhin\").setMaster('yarn')"
   ]
  },
  {
   "cell_type": "code",
   "execution_count": null,
   "id": "35142411-5a99-46bb-88f3-ee0c56ff0486",
   "metadata": {},
   "outputs": [],
   "source": [
    "sc = SparkContext(conf=conf)\n",
    "spark = SparkSession(sc)"
   ]
  },
  {
   "cell_type": "code",
   "execution_count": null,
   "id": "c53be576-3d33-4044-bd69-6db6b9efe6bf",
   "metadata": {},
   "outputs": [],
   "source": [
    "tripData = spark.read\\\n",
    ".option(\"header\", True)\\\n",
    ".option(\"inferSchema\", True)\\\n",
    ".option(\"timestampFormat\", 'M/d/y H:m')\\\n",
    ".csv(\"trips.txt\")"
   ]
  },
  {
   "cell_type": "code",
   "execution_count": null,
   "id": "9dc35414-95fc-4b0a-9e92-e2a9ec708e7f",
   "metadata": {},
   "outputs": [],
   "source": [
    "stationData = spark.read\\\n",
    ".option(\"header\", True)\\\n",
    ".option(\"inferSchema\", True)\\\n",
    ".option(\"timestampFormat\", 'M/d/y')\\\n",
    ".csv(\"stations.txt\")"
   ]
  },
  {
   "cell_type": "code",
   "execution_count": null,
   "id": "d953fdb8-14c9-434c-8398-2fc5f5dd39b2",
   "metadata": {},
   "outputs": [],
   "source": [
    "stationData.createOrReplaceTempView(\"stations\")\n",
    "tripData.createOrReplaceTempView(\"trips\")"
   ]
  },
  {
   "cell_type": "markdown",
   "id": "c2030d21-3d4d-4087-b4d3-8e0efef62f02",
   "metadata": {},
   "source": [
    "#### Найти количество велосипедов в системе"
   ]
  },
  {
   "cell_type": "code",
   "execution_count": null,
   "id": "f7e0e189-fdc7-4b45-a0f2-cf7e12c3f5a1",
   "metadata": {},
   "outputs": [],
   "source": [
    "endTrips = spark.sql(\"\"\"\n",
    "SELECT COUNT(DISTINCT bike_id) AS Kol_vo_velosipedov_v_sisteme\n",
    "FROM trips\n",
    "\"\"\")\n",
    "endTrips.show()\n"
   ]
  },
  {
   "cell_type": "markdown",
   "id": "a55345fc-0503-4741-956c-26a41a396faa",
   "metadata": {},
   "source": [
    "#### Найти велосипед с максимальным временем пробега"
   ]
  },
  {
   "cell_type": "code",
   "execution_count": null,
   "id": "ac2c36de-2664-48eb-8361-8c18d5f23066",
   "metadata": {},
   "outputs": [],
   "source": [
    "endTrips = spark.sql(\"\"\"\n",
    "SELECT bike_id, SUM(duration) AS duration_sum\n",
    "FROM trips\n",
    "    GROUP BY bike_id\n",
    "    ORDER BY duration_sum DESC\n",
    "    LIMIT 1 \n",
    "\"\"\")\n",
    "endTrips.show()"
   ]
  },
  {
   "cell_type": "markdown",
   "id": "fb7657dc-142f-4200-9184-c2901f49ae85",
   "metadata": {},
   "source": [
    "#### Найти наибольшее геодезическое расстояние между станциями"
   ]
  },
  {
   "cell_type": "code",
   "execution_count": null,
   "id": "86dde004-e07b-4f36-bad4-3d996ebb0ba7",
   "metadata": {},
   "outputs": [],
   "source": [
    "endTrips = spark.sql(\"\"\"\n",
    "SELECT from_city, to_city, max(distance_in_km)  as max_dist\n",
    "    FROM(\n",
    "    SELECT a.name AS from_city, b.name AS to_city, \n",
    "       111.111 *\n",
    "        DEGREES(ACOS(LEAST(1.0, COS(RADIANS(a.lat))\n",
    "             * COS(RADIANS(b.lat))\n",
    "             * COS(RADIANS(a.long - b.long))\n",
    "             + SIN(RADIANS(a.lat))\n",
    "             * SIN(RADIANS(b.lat))))) AS distance_in_km\n",
    "      FROM stations AS a\n",
    "      JOIN stations AS b ON a.id <> b.id ) AS dist\n",
    "      GROUP BY from_city, to_city\n",
    "      ORDER BY max_dist DESC\n",
    "      limit 1\n",
    "\n",
    "\"\"\")\n",
    "endTrips.show()\n"
   ]
  },
  {
   "attachments": {},
   "cell_type": "markdown",
   "id": "afb87ec7-e552-42b6-a099-ac7a0386c288",
   "metadata": {},
   "source": [
    "#### Найти путь велосипеда с максимальным временем пробега через станции."
   ]
  },
  {
   "cell_type": "code",
   "execution_count": null,
   "id": "17647308-865a-443e-8509-2fa9a0420b79",
   "metadata": {},
   "outputs": [],
   "source": [
    "endTrips = spark.sql(\"\"\"\n",
    "SELECT id, start_station_name, end_station_name, duration\n",
    "FROM trips\n",
    "    WHERE bike_id = 535\n",
    "    ORDER BY start_date\n",
    "\"\"\")\n",
    "endTrips.show()"
   ]
  },
  {
   "cell_type": "markdown",
   "id": "e87a456a-da70-47a8-bb22-5a756d6a518a",
   "metadata": {},
   "source": [
    "#### Найти пользователей потративших на поездки более 3 часов."
   ]
  },
  {
   "cell_type": "code",
   "execution_count": null,
   "id": "0c538e0b-26f5-42a4-85f1-9510a3009282",
   "metadata": {
    "tags": []
   },
   "outputs": [],
   "source": [
    "endTrips = spark.sql(\"\"\"\n",
    "SELECT \n",
    "    zip_code, \n",
    "    SUM (duration) AS sum_duration\n",
    "FROM trips\n",
    "    GROUP BY zip_code\n",
    "    HAVING sum_duration > 180\n",
    "    ORDER BY sum_duration\n",
    "\"\"\")\n",
    "endTrips.show()\n"
   ]
  }
 ],
 "metadata": {
  "kernelspec": {
   "display_name": "base",
   "language": "python",
   "name": "python3"
  },
  "language_info": {
   "codemirror_mode": {
    "name": "ipython",
    "version": 3
   },
   "file_extension": ".py",
   "mimetype": "text/x-python",
   "name": "python",
   "nbconvert_exporter": "python",
   "pygments_lexer": "ipython3",
   "version": "3.9.12 (main, Apr  4 2022, 05:22:27) [MSC v.1916 64 bit (AMD64)]"
  },
  "vscode": {
   "interpreter": {
    "hash": "e7ad3829945238e38646fead247523dc866ecc992c24dd9324bd03db3fd6694d"
   }
  }
 },
 "nbformat": 4,
 "nbformat_minor": 5
}
