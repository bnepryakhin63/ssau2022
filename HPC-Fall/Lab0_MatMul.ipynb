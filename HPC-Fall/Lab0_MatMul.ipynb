{
 "cells": [
  {
   "cell_type": "code",
   "execution_count": 1,
   "metadata": {},
   "outputs": [
    {
     "name": "stdout",
     "output_type": "stream",
     "text": [
      " cuda device\n"
     ]
    }
   ],
   "source": [
    "import torch\n",
    "import torchvision\n",
    "import gc\n",
    "import pandas as pd\n",
    "import numpy as np\n",
    "import time\n",
    "\n",
    "# Проверяем какое устройство подключено\n",
    "if torch.cuda.is_available():\n",
    "    device = torch.device(\"cuda\")\n",
    "else:\n",
    "    device = torch.device(\"cpu\")\n",
    "print(\"\", device, \"device\")\n",
    "\n",
    "# Очищаем кэш\n",
    "gc.collect()\n",
    "torch.cuda.empty_cache()"
   ]
  },
  {
   "cell_type": "code",
   "execution_count": 2,
   "metadata": {},
   "outputs": [
    {
     "name": "stdout",
     "output_type": "stream",
     "text": [
      "1\n",
      "2\n",
      "3\n",
      "4\n",
      "5\n",
      "6\n",
      "7\n",
      "8\n",
      "9\n",
      "10\n",
      "11\n",
      "12\n",
      "13\n",
      "14\n",
      "15\n",
      "16\n",
      "17\n",
      "18\n",
      "19\n",
      "20\n",
      "21\n",
      "22\n",
      "23\n",
      "24\n",
      "25\n",
      "26\n",
      "27\n",
      "28\n",
      "29\n",
      "30\n",
      "31\n"
     ]
    }
   ],
   "source": [
    "# Итерационно получаем значения скорости выполнения перемножений таблиц с изменением их размерностей\n",
    "# на 1 еденицу с каждым шагом. Для GPU проводим 3 теста на каждом шаге \n",
    "# для уточнения данных и сглаживания  погрешности\n",
    "\n",
    "n = 3\n",
    "m = 0\n",
    "my_list = []\n",
    "while m < 31:\n",
    "    my_list.append([])\n",
    "    for i in range(1):\n",
    "        matrix_size = (90+m)*(90+m)\n",
    "        my_list[m].append(matrix_size/(90+m))\n",
    "        x = torch.randn(matrix_size, matrix_size)\n",
    "        y = torch.randn(matrix_size, matrix_size)\n",
    "\n",
    "        start = time.time()\n",
    "        result_tr = torch.matmul(x, y)\n",
    "        my_list[m].append(time.time() - start)\n",
    "        torch.cuda.synchronize()\n",
    "        x_gpu = x.to(device)\n",
    "        y_gpu = y.to(device)\n",
    "        my_list.append([])\n",
    "        for i in range(3):\n",
    "            start = time.time()\n",
    "            result_gpu = torch.matmul(x_gpu, y_gpu)\n",
    "            torch.cuda.synchronize()\n",
    "            my_list[m].append(time.time() - start)\n",
    "    m = m + 1\n",
    "    print(m)\n",
    "\n",
    "gc.collect()\n",
    "torch.cuda.empty_cache()"
   ]
  },
  {
   "cell_type": "code",
   "execution_count": 10,
   "metadata": {
    "scrolled": true
   },
   "outputs": [
    {
     "data": {
      "text/plain": [
       "<AxesSubplot: xlabel='LenMatrix'>"
      ]
     },
     "execution_count": 10,
     "metadata": {},
     "output_type": "execute_result"
    },
    {
     "data": {
      "image/png": "[encoded data removed]",
      "text/plain": [
       "<Figure size 640x480 with 1 Axes>"
      ]
     },
     "metadata": {},
     "output_type": "display_data"
    }
   ],
   "source": [
    "# Полученные значения из листа преобразовуем в dataframe\n",
    "df = pd.DataFrame(my_list)\n",
    "df.columns =['LenMatrix', 'CPU','GPU_tst1', 'GPU_tst2', 'GPU_tst3']\n",
    "df = df[df.LenMatrix > 0]\n",
    "# Строим график изменения скорости \n",
    "df.groupby('LenMatrix').sum().plot(kind='bar')"
   ]
  },
  {
   "cell_type": "code",
   "execution_count": 39,
   "metadata": {},
   "outputs": [
    {
     "name": "stdout",
     "output_type": "stream",
     "text": [
      "При увеличении размера каждой плоскости матрицы на 30 ед. увеличивается длительность выполнения вычисления в\n",
      "Для CPU: 7.3 раза\n",
      "Для GPU: 2.5 раза\n",
      "При размере матрицы 120*120 вычисление на GPU происходит в 17 раз быстрее\n"
     ]
    }
   ],
   "source": [
    "#Найдем ускорение CPU\n",
    "accelCPU = (df.CPU[len(df)-1] - df.CPU[0])/df.CPU[0]\n",
    "#Найдем среднее ускорение для первого и последнего теста GPU\n",
    "#тк в первом значении есть выброс берем начиная со 2го значения\n",
    "mean_accelGPU1 = (df.GPU_tst1[1]+df.GPU_tst2[1]+df.GPU_tst3[1])/3\n",
    "mean_accelGPUmax = (df.GPU_tst1[len(df)-1]+df.GPU_tst2[len(df)-1]+df.GPU_tst3[len(df)-1])/3\n",
    "accelGPU = (mean_accelGPUmax - mean_accelGPU1)/mean_accelGPU1\n",
    "\n",
    "print('При увеличении размера каждой плоскости матрицы на 30 ед.',\n",
    "      'увеличивается длительность выполнения вычисления в')\n",
    "print('Для CPU:',\n",
    "      f\"{accelCPU:.{1}f}\",'раза')\n",
    "print('Для GPU:',\n",
    "      f\"{accelGPU:.{1}f}\",'раза')\n",
    "print('При размере матрицы 120*120 вычисление на GPU происходит в',f\"{(df.CPU[len(df)-1])/mean_accelGPUmax:.{0}f}\",'раз быстрее')"
   ]
  }
 ],
 "metadata": {
  "kernelspec": {
   "display_name": "Python 3 (ipykernel)",
   "language": "python",
   "name": "python3"
  },
  "language_info": {
   "codemirror_mode": {
    "name": "ipython",
    "version": 3
   },
   "file_extension": ".py",
   "mimetype": "text/x-python",
   "name": "python",
   "nbconvert_exporter": "python",
   "pygments_lexer": "ipython3",
   "version": "3.9.13"
  }
 },
 "nbformat": 4,
 "nbformat_minor": 4
}
