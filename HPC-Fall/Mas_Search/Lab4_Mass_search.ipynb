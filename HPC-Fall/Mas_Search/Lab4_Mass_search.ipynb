{
 "cells": [
  {
   "cell_type": "code",
   "execution_count": 15,
   "metadata": {},
   "outputs": [
    {
     "name": "stdout",
     "output_type": "stream",
     "text": [
      "Found 1 CUDA devices\n",
      "id 0    b'NVIDIA GeForce RTX 3050 Laptop GPU'                              [SUPPORTED]\n",
      "                      Compute Capability: 8.6\n",
      "                           PCI Device ID: 0\n",
      "                              PCI Bus ID: 2\n",
      "                                    UUID: GPU-323511ec-5724-7c5a-0b57-4705dd18bf49\n",
      "                                Watchdog: Enabled\n",
      "                            Compute Mode: WDDM\n",
      "             FP32/FP64 Performance Ratio: 32\n",
      "Summary:\n",
      "\t1/1 devices are supported\n"
     ]
    },
    {
     "data": {
      "text/plain": [
       "True"
      ]
     },
     "execution_count": 15,
     "metadata": {},
     "output_type": "execute_result"
    }
   ],
   "source": [
    "import numpy as np\n",
    "import pandas as pd\n",
    "from time import time\n",
    "import matplotlib.pyplot as plt\n",
    "from numba import cuda\n",
    "\n",
    "cuda.detect()"
   ]
  },
  {
   "cell_type": "markdown",
   "metadata": {},
   "source": [
    "Функция поиска подстрок на CPU"
   ]
  },
  {
   "cell_type": "code",
   "execution_count": 2,
   "metadata": {},
   "outputs": [],
   "source": [
    "def mass_search_CPU(N: np.ndarray, H: np.ndarray, R: np.ndarray):\n",
    "  for j in range(R.shape[1]):\n",
    "    for i in range(R.shape[0]):\n",
    "      n = N[i]\n",
    "      for k in range(len(n)):\n",
    "        if n[k] == H[j]:\n",
    "          R[i, j - k] -= 1\n",
    "  return R"
   ]
  },
  {
   "cell_type": "markdown",
   "metadata": {},
   "source": [
    "Функция поиска подстрок на GPU"
   ]
  },
  {
   "cell_type": "code",
   "execution_count": 3,
   "metadata": {},
   "outputs": [],
   "source": [
    "@cuda.jit\n",
    "def mass_search_GPU(N: np.ndarray, H: np.ndarray, R: np.ndarray):\n",
    "\t# Получение асболютного значения индекса потока в сетке\n",
    "\tx, y = cuda.grid(2)\n",
    "\t# Рассматриваем каждый символ подстроки\n",
    "\tn = N[y]\n",
    "\tfor k in range(len(n)):\n",
    "\t\t# Декремент, если символ подстроки совпал с символом входного буффера\n",
    "\t\tif n[k] == H[x]:\n",
    "\t\t\tR[y, x - k] -= 1\n",
    "\tcuda.syncthreads()"
   ]
  },
  {
   "cell_type": "markdown",
   "metadata": {},
   "source": [
    "Запись входных данных (N и H) в файл"
   ]
  },
  {
   "cell_type": "code",
   "execution_count": 4,
   "metadata": {},
   "outputs": [],
   "source": [
    "def save_input(pathfile: str, N: np.ndarray, H: np.ndarray, mode='a', sheet_name=''):\n",
    "\n",
    "  # Приведение списка символов (подстроки) к типу str\n",
    "  # для корректной записи в excel\n",
    "  new_N = [str(n) for n in N]\n",
    "  \n",
    "  # Создание DataFrame\n",
    "  df = pd.DataFrame({\"N\": new_N, \"H\": H})\n",
    "  \n",
    "  # Если стоит mode='a', то первая запись в файл выдаст ошибку,\n",
    "  # поэтому в этом случае mode меняется на 'w'.\n",
    "  try:\n",
    "    with pd.ExcelWriter(pathfile, mode=mode) as writer:\n",
    "      df.to_excel(writer, sheet_name=sheet_name)\n",
    "  except:\n",
    "    with pd.ExcelWriter(pathfile, mode='w') as writer:\n",
    "      df.to_excel(writer, sheet_name=sheet_name)"
   ]
  },
  {
   "cell_type": "markdown",
   "metadata": {},
   "source": [
    "Запись рабочей матрицы R в файл"
   ]
  },
  {
   "cell_type": "code",
   "execution_count": 5,
   "metadata": {},
   "outputs": [],
   "source": [
    "def save_R(pathfile: str, result: np.ndarray, mode='a'):\n",
    "\n",
    "  df = pd.DataFrame(result)\n",
    "\n",
    "  sheet_name = str(len(N))\n",
    "  \n",
    "  try:\n",
    "    with pd.ExcelWriter(pathfile, mode=mode) as writer:\n",
    "      df.to_excel(writer, sheet_name=sheet_name)\n",
    "  except:\n",
    "    with pd.ExcelWriter(pathfile, mode='w') as writer:\n",
    "      df.to_excel(writer, sheet_name=sheet_name)"
   ]
  },
  {
   "cell_type": "markdown",
   "metadata": {},
   "source": [
    "Вычисления на CPU и GPU i раз для усреднения времени"
   ]
  },
  {
   "cell_type": "code",
   "execution_count": 6,
   "metadata": {},
   "outputs": [],
   "source": [
    "sizes = np.arange(150, 1800, 150)  # Размерности N и H\n",
    "i = 8                            # Кол-во итераций для подсчёта среднего времени\n",
    "N_chars = 2                       # Кол-во символов в подстроках\n",
    "BLOCK_DIM = 32                    # Размерность оси квадратного блока\n",
    "BLOCK_SIZE = (BLOCK_DIM, BLOCK_DIM)\n",
    "\n",
    "alp = np.arange(256)\n",
    "\n",
    "df = {\"Время на GPU\":np.zeros(len(sizes), dtype=float), \n",
    "      \"Время на CPU\":np.zeros(len(sizes), dtype=float),\n",
    "      \"Ускорения\":np.zeros(len(sizes), dtype=float),\n",
    "      \"Одинаковые ли значения?\":np.full(len(sizes), fill_value=True)}\n",
    "\n",
    "df = pd.DataFrame(df, index=sizes)"
   ]
  },
  {
   "cell_type": "code",
   "execution_count": 7,
   "metadata": {},
   "outputs": [
    {
     "name": "stderr",
     "output_type": "stream",
     "text": [
      "c:\\Users\\Bogda\\anaconda3\\lib\\site-packages\\numba\\cuda\\compiler.py:726: NumbaPerformanceWarning: \u001b[1mGrid size (25) < 2 * SM count (32) will likely result in GPU under utilization due to low occupancy.\u001b[0m\n",
      "  warn(NumbaPerformanceWarning(msg))\n",
      "c:\\Users\\Bogda\\anaconda3\\lib\\site-packages\\numba\\cuda\\compiler.py:726: NumbaPerformanceWarning: \u001b[1mGrid size (25) < 2 * SM count (32) will likely result in GPU under utilization due to low occupancy.\u001b[0m\n",
      "  warn(NumbaPerformanceWarning(msg))\n"
     ]
    }
   ],
   "source": [
    "# Вычисления для разных размерностей N и H\n",
    "for size in sizes:\n",
    "\n",
    "  # Случайная генерация подстрок N и входного буффера H\n",
    "  N = np.random.randint(len(alp), size=(size, N_chars), dtype=np.uint8)\n",
    "  H = np.random.randint(len(alp), size=size, dtype=np.uint8)\n",
    "\n",
    "  # Заполнение рабочей матрицы NxH значениями N_chars\n",
    "  R = np.full((size, size), fill_value=N_chars)\n",
    "\n",
    "  # Инициализация сетки блоков\n",
    "  GRID_SIZE = ((len(N) + BLOCK_DIM - 1) // BLOCK_DIM , (len(H) + BLOCK_DIM - 1) // BLOCK_DIM)\n",
    "\n",
    "  # Суммы общего времени за определённое кол-во итераций для реализации\n",
    "  gpu_common_time = []\n",
    "  cpu_common_time = []\n",
    "\n",
    "  # Выполнение одних и тех же вычислений для нахождения среднего времени\n",
    "  for i in range (i + 1):\n",
    "\n",
    "    #Вычисление времени на GPU\n",
    "    start_time = time()\n",
    "    \n",
    "    # Пересылка данных на устройство\n",
    "    dev_N = cuda.to_device(N)\n",
    "    dev_H = cuda.to_device(H)\n",
    "    dev_R = cuda.to_device(R)\n",
    "    \n",
    "    # Запуск вычислений на GPU\n",
    "    mass_search_GPU[GRID_SIZE, BLOCK_SIZE](dev_N, dev_H, dev_R)\n",
    "\n",
    "    # Копирование рабочей матрицы с устройства на хост\n",
    "    host_R = dev_R.copy_to_host()\n",
    "    gpu_common_time.append(time() - start_time)\n",
    "\n",
    "    #Вычисление времени на CPU\n",
    "    start_time = time()\n",
    "    R = mass_search_CPU(N, H, R.copy())\n",
    "    cpu_common_time.append(time() - start_time)\n",
    "\n",
    "    if i == 0:\n",
    "      save_R(\"R_GPU.xlsx\", host_R)\n",
    "      save_R(\"R_CPU.xlsx\", R)\n",
    "  \n",
    "  # Запись подсчётов времени и соответствия рабочих матриц\n",
    "  df.loc[size, \"Время на GPU\"] = np.mean(gpu_common_time[0:])\n",
    "  df.loc[size, \"Время на CPU\"] = np.mean(cpu_common_time[0:])\n",
    "  df.loc[size, \"Одинаковые ли значения?\"] = np.array_equal(host_R, R)\n",
    "\n",
    "\n",
    "  # Сохранение входных данных в файл с несколькими листами\n",
    "  save_input(\"input_data.xlsx\", N, H, sheet_name=f'Размер {size}')"
   ]
  },
  {
   "cell_type": "code",
   "execution_count": 10,
   "metadata": {},
   "outputs": [
    {
     "data": {
      "text/plain": [
       "Text(0, 0.5, 'Ускорение')"
      ]
     },
     "execution_count": 10,
     "metadata": {},
     "output_type": "execute_result"
    },
    {
     "data": {
      "image/png": "[encoded data removed]",
      "text/plain": [
       "<Figure size 432x288 with 1 Axes>"
      ]
     },
     "metadata": {
      "needs_background": "light"
     },
     "output_type": "display_data"
    }
   ],
   "source": [
    "# Запись значений ускорения GPU над CPU\n",
    "df[\"Ускорения\"] = df[\"Время на CPU\"] / df[\"Время на GPU\"]\n",
    "\n",
    "plt.plot(df[\"Ускорения\"])\n",
    "plt.title(\"График ускорения вычисления на GPU vs CPU\")\n",
    "plt.xlabel(\"Размерность\")\n",
    "plt.ylabel(\"Ускорение\")"
   ]
  },
  {
   "cell_type": "code",
   "execution_count": null,
   "metadata": {},
   "outputs": [
    {
     "data": {
      "text/html": [
       "<div>\n",
       "<style scoped>\n",
       "    .dataframe tbody tr th:only-of-type {\n",
       "        vertical-align: middle;\n",
       "    }\n",
       "\n",
       "    .dataframe tbody tr th {\n",
       "        vertical-align: top;\n",
       "    }\n",
       "\n",
       "    .dataframe thead th {\n",
       "        text-align: right;\n",
       "    }\n",
       "</style>\n",
       "<table border=\"1\" class=\"dataframe\">\n",
       "  <thead>\n",
       "    <tr style=\"text-align: right;\">\n",
       "      <th></th>\n",
       "      <th>Время на GPU</th>\n",
       "      <th>Время на CPU</th>\n",
       "      <th>Ускорения</th>\n",
       "      <th>Одинаковые ли значения?</th>\n",
       "      <th>Ускорение</th>\n",
       "    </tr>\n",
       "  </thead>\n",
       "  <tbody>\n",
       "    <tr>\n",
       "      <th>160</th>\n",
       "      <td>0.188960</td>\n",
       "      <td>0.017065</td>\n",
       "      <td>0.090312</td>\n",
       "      <td>True</td>\n",
       "      <td>0.090312</td>\n",
       "    </tr>\n",
       "    <tr>\n",
       "      <th>320</th>\n",
       "      <td>0.001774</td>\n",
       "      <td>0.074117</td>\n",
       "      <td>41.773665</td>\n",
       "      <td>True</td>\n",
       "      <td>41.773665</td>\n",
       "    </tr>\n",
       "    <tr>\n",
       "      <th>480</th>\n",
       "      <td>0.002659</td>\n",
       "      <td>0.156807</td>\n",
       "      <td>58.965563</td>\n",
       "      <td>True</td>\n",
       "      <td>58.965563</td>\n",
       "    </tr>\n",
       "    <tr>\n",
       "      <th>640</th>\n",
       "      <td>0.005642</td>\n",
       "      <td>0.267520</td>\n",
       "      <td>47.414353</td>\n",
       "      <td>True</td>\n",
       "      <td>47.414353</td>\n",
       "    </tr>\n",
       "    <tr>\n",
       "      <th>800</th>\n",
       "      <td>0.007536</td>\n",
       "      <td>0.435159</td>\n",
       "      <td>57.747439</td>\n",
       "      <td>True</td>\n",
       "      <td>57.747439</td>\n",
       "    </tr>\n",
       "    <tr>\n",
       "      <th>960</th>\n",
       "      <td>0.009548</td>\n",
       "      <td>0.605496</td>\n",
       "      <td>63.416023</td>\n",
       "      <td>True</td>\n",
       "      <td>63.416023</td>\n",
       "    </tr>\n",
       "    <tr>\n",
       "      <th>1120</th>\n",
       "      <td>0.011962</td>\n",
       "      <td>0.819835</td>\n",
       "      <td>68.534419</td>\n",
       "      <td>True</td>\n",
       "      <td>68.534419</td>\n",
       "    </tr>\n",
       "    <tr>\n",
       "      <th>1280</th>\n",
       "      <td>0.015439</td>\n",
       "      <td>1.146174</td>\n",
       "      <td>74.241156</td>\n",
       "      <td>True</td>\n",
       "      <td>74.241156</td>\n",
       "    </tr>\n",
       "    <tr>\n",
       "      <th>1440</th>\n",
       "      <td>0.018181</td>\n",
       "      <td>1.394463</td>\n",
       "      <td>76.698547</td>\n",
       "      <td>False</td>\n",
       "      <td>76.698547</td>\n",
       "    </tr>\n",
       "  </tbody>\n",
       "</table>\n",
       "</div>"
      ],
      "text/plain": [
       "      Время на GPU  Время на CPU  Ускорения  Одинаковые ли значения?  \\\n",
       "160       0.188960      0.017065   0.090312                     True   \n",
       "320       0.001774      0.074117  41.773665                     True   \n",
       "480       0.002659      0.156807  58.965563                     True   \n",
       "640       0.005642      0.267520  47.414353                     True   \n",
       "800       0.007536      0.435159  57.747439                     True   \n",
       "960       0.009548      0.605496  63.416023                     True   \n",
       "1120      0.011962      0.819835  68.534419                     True   \n",
       "1280      0.015439      1.146174  74.241156                     True   \n",
       "1440      0.018181      1.394463  76.698547                    False   \n",
       "\n",
       "      Ускорение  \n",
       "160    0.090312  \n",
       "320   41.773665  \n",
       "480   58.965563  \n",
       "640   47.414353  \n",
       "800   57.747439  \n",
       "960   63.416023  \n",
       "1120  68.534419  \n",
       "1280  74.241156  \n",
       "1440  76.698547  "
      ]
     },
     "execution_count": 19,
     "metadata": {},
     "output_type": "execute_result"
    }
   ],
   "source": [
    "df\n",
    "print(\"Значительный прирост скорости обработки данных возникает уже при длине подстрок более 150\")\n",
    "print(\"При выполнении алгоритмов на CPU и GPU практически всегда выдаются одинаковые значения для работы алгоритма поиска подстроки\")"
   ]
  }
 ],
 "metadata": {
  "kernelspec": {
   "display_name": "base",
   "language": "python",
   "name": "python3"
  },
  "language_info": {
   "codemirror_mode": {
    "name": "ipython",
    "version": 3
   },
   "file_extension": ".py",
   "mimetype": "text/x-python",
   "name": "python",
   "nbconvert_exporter": "python",
   "pygments_lexer": "ipython3",
   "version": "3.9.12"
  },
  "orig_nbformat": 4,
  "vscode": {
   "interpreter": {
    "hash": "e7ad3829945238e38646fead247523dc866ecc992c24dd9324bd03db3fd6694d"
   }
  }
 },
 "nbformat": 4,
 "nbformat_minor": 2
}
