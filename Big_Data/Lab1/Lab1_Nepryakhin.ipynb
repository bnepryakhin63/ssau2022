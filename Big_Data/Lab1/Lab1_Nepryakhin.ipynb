{
 "cells": [
  {
   "cell_type": "code",
   "execution_count": 1,
   "id": "6f01b99e-6c7a-4fc6-80ff-fee30d4e6e95",
   "metadata": {},
   "outputs": [],
   "source": [
    "from pyspark import SparkContext, SparkConf \n",
    "from pyspark.sql import SparkSession"
   ]
  },
  {
   "cell_type": "code",
   "execution_count": 2,
   "id": "65f9b47d-157d-4bf2-9720-63992eca2b75",
   "metadata": {},
   "outputs": [],
   "source": [
    "conf = SparkConf().setAppName(\"Lab1_Nepryakhin\").setMaster('yarn')"
   ]
  },
  {
   "cell_type": "code",
   "execution_count": 3,
   "id": "35142411-5a99-46bb-88f3-ee0c56ff0486",
   "metadata": {},
   "outputs": [],
   "source": [
    "sc = SparkContext(conf=conf)\n",
    "spark = SparkSession(sc)"
   ]
  },
  {
   "cell_type": "code",
   "execution_count": 4,
   "id": "c53be576-3d33-4044-bd69-6db6b9efe6bf",
   "metadata": {},
   "outputs": [],
   "source": [
    "tripData = spark.read\\\n",
    ".option(\"header\", True)\\\n",
    ".option(\"inferSchema\", True)\\\n",
    ".option(\"timestampFormat\", 'M/d/y H:m')\\\n",
    ".csv(\"trips.txt\")"
   ]
  },
  {
   "cell_type": "code",
   "execution_count": 5,
   "id": "9dc35414-95fc-4b0a-9e92-e2a9ec708e7f",
   "metadata": {},
   "outputs": [],
   "source": [
    "stationData = spark.read\\\n",
    ".option(\"header\", True)\\\n",
    ".option(\"inferSchema\", True)\\\n",
    ".option(\"timestampFormat\", 'M/d/y')\\\n",
    ".csv(\"stations.txt\")"
   ]
  },
  {
   "cell_type": "code",
   "execution_count": 6,
   "id": "d953fdb8-14c9-434c-8398-2fc5f5dd39b2",
   "metadata": {},
   "outputs": [],
   "source": [
    "stationData.createOrReplaceTempView(\"stations\")\n",
    "tripData.createOrReplaceTempView(\"trips\")"
   ]
  },
  {
   "cell_type": "markdown",
   "id": "c2030d21-3d4d-4087-b4d3-8e0efef62f02",
   "metadata": {},
   "source": [
    "#### Найти количество велосипедов в системе"
   ]
  },
  {
   "cell_type": "code",
   "execution_count": 8,
   "id": "f7e0e189-fdc7-4b45-a0f2-cf7e12c3f5a1",
   "metadata": {},
   "outputs": [
    {
     "name": "stdout",
     "output_type": "stream",
     "text": [
      "+----------------------------+\n",
      "|Kol_vo_velosipedov_v_sisteme|\n",
      "+----------------------------+\n",
      "|                         700|\n",
      "+----------------------------+\n",
      "\n"
     ]
    }
   ],
   "source": [
    "endTrips = spark.sql(\"\"\"\n",
    "SELECT COUNT(DISTINCT bike_id) AS Kol_vo_velosipedov_v_sisteme\n",
    "FROM trips\n",
    "\"\"\")\n",
    "endTrips.show()\n"
   ]
  },
  {
   "cell_type": "markdown",
   "id": "a55345fc-0503-4741-956c-26a41a396faa",
   "metadata": {},
   "source": [
    "#### Найти велосипед с максимальным временем пробега"
   ]
  },
  {
   "cell_type": "code",
   "execution_count": 10,
   "id": "ac2c36de-2664-48eb-8361-8c18d5f23066",
   "metadata": {},
   "outputs": [
    {
     "name": "stdout",
     "output_type": "stream",
     "text": [
      "+-------+------------+\n",
      "|bike_id|duration_sum|\n",
      "+-------+------------+\n",
      "|    535|    36229902|\n",
      "+-------+------------+\n",
      "\n"
     ]
    }
   ],
   "source": [
    "endTrips = spark.sql(\"\"\"\n",
    "SELECT bike_id, SUM(duration) AS duration_sum\n",
    "FROM trips\n",
    "    GROUP BY bike_id\n",
    "    ORDER BY duration_sum DESC\n",
    "    LIMIT 1 \n",
    "\"\"\")\n",
    "endTrips.show()"
   ]
  },
  {
   "cell_type": "markdown",
   "id": "fb7657dc-142f-4200-9184-c2901f49ae85",
   "metadata": {},
   "source": [
    "#### Найти наибольшее геодезическое расстояние между станциями"
   ]
  },
  {
   "cell_type": "code",
   "execution_count": 12,
   "id": "86dde004-e07b-4f36-bad4-3d996ebb0ba7",
   "metadata": {},
   "outputs": [
    {
     "name": "stdout",
     "output_type": "stream",
     "text": [
      "+--------------------+--------------------+-----------------+\n",
      "|           from_city|             to_city|         max_dist|\n",
      "+--------------------+--------------------+-----------------+\n",
      "|Embarcadero at Sa...|SJSU - San Salvad...|69.86810174337214|\n",
      "+--------------------+--------------------+-----------------+\n",
      "\n"
     ]
    }
   ],
   "source": [
    "endTrips = spark.sql(\"\"\"\n",
    "SELECT from_city, to_city, max(distance_in_km)  as max_dist\n",
    "    FROM(\n",
    "    SELECT a.name AS from_city, b.name AS to_city, \n",
    "       111.111 *\n",
    "        DEGREES(ACOS(LEAST(1.0, COS(RADIANS(a.lat))\n",
    "             * COS(RADIANS(b.lat))\n",
    "             * COS(RADIANS(a.long - b.long))\n",
    "             + SIN(RADIANS(a.lat))\n",
    "             * SIN(RADIANS(b.lat))))) AS distance_in_km\n",
    "      FROM stations AS a\n",
    "      JOIN stations AS b ON a.id <> b.id ) AS dist\n",
    "      GROUP BY from_city, to_city\n",
    "      ORDER BY max_dist DESC\n",
    "      limit 1\n",
    "\n",
    "\"\"\")\n",
    "endTrips.show()\n"
   ]
  },
  {
   "cell_type": "markdown",
   "id": "afb87ec7-e552-42b6-a099-ac7a0386c288",
   "metadata": {},
   "source": [
    "#### Найти путь велосипеда с максимальным временем пробега через станции."
   ]
  },
  {
   "cell_type": "code",
   "execution_count": 14,
   "id": "17647308-865a-443e-8509-2fa9a0420b79",
   "metadata": {},
   "outputs": [
    {
     "name": "stdout",
     "output_type": "stream",
     "text": [
      "+-----+--------------------+--------------------+--------+\n",
      "|   id|  start_station_name|    end_station_name|duration|\n",
      "+-----+--------------------+--------------------+--------+\n",
      "| 4966|     Post at Kearney|San Francisco Cal...|    1245|\n",
      "| 5067|San Francisco Cal...|San Francisco Cal...|     423|\n",
      "| 5179|San Francisco Cal...|   Market at Sansome|     842|\n",
      "| 5199|   Market at Sansome|   2nd at South Park|     498|\n",
      "| 7806|     2nd at Townsend|    Davis at Jackson|    1671|\n",
      "|11422|San Francisco Cit...|Civic Center BART...|     260|\n",
      "|12245|Civic Center BART...|     Post at Kearney|    1192|\n",
      "|12485|     Post at Kearney|Embarcadero at Sa...|    1248|\n",
      "|12558|Embarcadero at Sa...|Washington at Kea...|    1272|\n",
      "|13107|Washington at Kea...|   Market at Sansome|     398|\n",
      "|13423|   Market at Sansome|   Market at Sansome|   12476|\n",
      "|14380|   Market at Sansome|       2nd at Folsom|     582|\n",
      "|14581|       2nd at Folsom|     2nd at Townsend|     499|\n",
      "|15231|Temporary Transba...|     2nd at Townsend|     467|\n",
      "|15242|     2nd at Townsend|Embarcadero at Sa...|     945|\n",
      "|15347|Embarcadero at Sa...|     Clay at Battery|     935|\n",
      "|15605|     Clay at Battery|Harry Bridges Pla...|     207|\n",
      "|15611|Harry Bridges Pla...|     Clay at Battery|     231|\n",
      "|15770|     Clay at Battery|San Francisco Cal...|    1082|\n",
      "|16294|San Francisco Cal...|   Steuart at Market|     642|\n",
      "+-----+--------------------+--------------------+--------+\n",
      "only showing top 20 rows\n",
      "\n"
     ]
    }
   ],
   "source": [
    "endTrips = spark.sql(\"\"\"\n",
    "SELECT id, start_station_name, end_station_name, duration\n",
    "FROM trips\n",
    "    WHERE bike_id = 535\n",
    "    ORDER BY start_date\n",
    "\"\"\")\n",
    "endTrips.show()"
   ]
  },
  {
   "cell_type": "markdown",
   "id": "e87a456a-da70-47a8-bb22-5a756d6a518a",
   "metadata": {},
   "source": [
    "#### Найти пользователей потративших на поездки более 3 часов."
   ]
  },
  {
   "cell_type": "code",
   "execution_count": 16,
   "id": "0c538e0b-26f5-42a4-85f1-9510a3009282",
   "metadata": {
    "tags": []
   },
   "outputs": [
    {
     "name": "stdout",
     "output_type": "stream",
     "text": [
      "+--------+------------+\n",
      "|zip_code|sum_duration|\n",
      "+--------+------------+\n",
      "|   87031|         188|\n",
      "|   33637|         190|\n",
      "|   93740|         196|\n",
      "|   64610|         208|\n",
      "|   28005|         232|\n",
      "|   60010|         234|\n",
      "|   34531|         238|\n",
      "|   80106|         259|\n",
      "|   11566|         264|\n",
      "|   50225|         270|\n",
      "|   91064|         278|\n",
      "|   39057|         300|\n",
      "|    9431|         317|\n",
      "|    9999|         332|\n",
      "|   60624|         332|\n",
      "|   94950|         341|\n",
      "|    1651|         342|\n",
      "|   21756|         343|\n",
      "|   77253|         349|\n",
      "|   28879|         364|\n",
      "+--------+------------+\n",
      "only showing top 20 rows\n",
      "\n"
     ]
    }
   ],
   "source": [
    "endTrips = spark.sql(\"\"\"\n",
    "SELECT \n",
    "    zip_code, \n",
    "    SUM (duration) AS sum_duration\n",
    "FROM trips\n",
    "    GROUP BY zip_code\n",
    "    HAVING sum_duration > 180\n",
    "    ORDER BY sum_duration\n",
    "\"\"\")\n",
    "endTrips.show()\n"
   ]
  }
 ],
 "metadata": {
  "kernelspec": {
   "display_name": "Python 3",
   "language": "python",
   "name": "python3"
  },
  "language_info": {
   "codemirror_mode": {
    "name": "ipython",
    "version": 3
   },
   "file_extension": ".py",
   "mimetype": "text/x-python",
   "name": "python",
   "nbconvert_exporter": "python",
   "pygments_lexer": "ipython3",
   "version": "3.9.5"
  }
 },
 "nbformat": 4,
 "nbformat_minor": 5
}
